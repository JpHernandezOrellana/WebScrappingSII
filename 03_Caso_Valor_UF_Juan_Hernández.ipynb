{
  "cells": [
    {
      "cell_type": "code",
      "execution_count": 1,
      "metadata": {
        "colab": {
          "base_uri": "https://localhost:8080/"
        },
        "id": "-ThfL2lmwxwW",
        "outputId": "6c78b667-3eab-49e6-f750-e0d40e74fddc"
      },
      "outputs": [
        {
          "name": "stdout",
          "output_type": "stream",
          "text": [
            "Requirement already satisfied: requests in /usr/local/lib/python3.10/dist-packages (2.31.0)\n",
            "Requirement already satisfied: beautifulsoup4 in /usr/local/lib/python3.10/dist-packages (4.12.3)\n",
            "Requirement already satisfied: charset-normalizer<4,>=2 in /usr/local/lib/python3.10/dist-packages (from requests) (3.3.2)\n",
            "Requirement already satisfied: idna<4,>=2.5 in /usr/local/lib/python3.10/dist-packages (from requests) (3.7)\n",
            "Requirement already satisfied: urllib3<3,>=1.21.1 in /usr/local/lib/python3.10/dist-packages (from requests) (2.0.7)\n",
            "Requirement already satisfied: certifi>=2017.4.17 in /usr/local/lib/python3.10/dist-packages (from requests) (2024.6.2)\n",
            "Requirement already satisfied: soupsieve>1.2 in /usr/local/lib/python3.10/dist-packages (from beautifulsoup4) (2.5)\n"
          ]
        }
      ],
      "source": [
        "# Paso 1: Instalar las bibliotecas necesarias\n",
        "!pip install requests beautifulsoup4\n",
        "\n",
        "# Paso 2: Importar las bibliotecas\n",
        "import requests\n",
        "from bs4 import BeautifulSoup\n",
        "import pandas as pd"
      ]
    },
    {
      "cell_type": "code",
      "execution_count": 2,
      "metadata": {
        "id": "aDPltk8WwxwX"
      },
      "outputs": [],
      "source": [
        "url = 'http://www.sii.cl/valores_y_fechas/uf/uf2023.htm'"
      ]
    },
    {
      "cell_type": "code",
      "execution_count": null,
      "metadata": {
        "id": "14RBOjZl3457"
      },
      "outputs": [],
      "source": []
    },
    {
      "cell_type": "code",
      "execution_count": 3,
      "metadata": {
        "colab": {
          "base_uri": "https://localhost:8080/"
        },
        "collapsed": true,
        "id": "lNzCxCZvwxwY",
        "outputId": "626a56c0-cf72-4b7a-eb1a-8b6faa713ba5"
      },
      "outputs": [
        {
          "name": "stdout",
          "output_type": "stream",
          "text": [
            "ï»¿\n",
            "<!DOCTYPE html>\n",
            "<html lang=\"es\">\n",
            " <head>\n",
            "  <meta charset=\"utf-8\"/>\n",
            "  <meta content=\"IE=edge\" http-equiv=\"X-UA-Compatible\"/>\n",
            "  <meta content=\"width=device-width, initial-scale=1.0, maximum-scale=1.0, user-scalable=no\" name=\"viewport\">\n",
            "   <meta content=\"\" name=\"description\"/>\n",
            "   <meta content=\"\" name=\"author\"/>\n",
            "   <title>\n",
            "    Sii | Servicio de Impuestos Internos\n",
            "   </title>\n",
            "   <script src=\"/responsive/js/sidebar_pie.js\">\n",
            "   </script>\n",
            "   <script src=\"/js/responsive_barranav.js\">\n",
            "   </script>\n",
            "   <meta content=\"text/html; charset=utf-8\" http-equiv=\"Content-Type\"/>\n",
            "  </meta>\n",
            " </head>\n",
            " <body>\n",
            "  <div id=\"my-wrapper\">\n",
            "   <!-- CABECERA -->\n",
            "   <script>\n",
            "    mostrar(\"../index_valores_y_fechas.html|Valores y fechas||UF\");\n",
            "   </script>\n",
            "   <!-- FIN CABECERAS-->\n",
            "   <!-- CUERPO -->\n",
            "   <div class=\"web-sii cuerpo\">\n",
            "    <div class=\"container\">\n",
            "     <div class=\"pagina-completa\">\n",
            "      <div class=\"row columna-lateral\">\n",
            "       <div class=\"col-sm-3 hidden-xs\">\n",
            "        <!-- MENU -->\n",
            "        <script>\n",
            "       \n"
          ]
        }
      ],
      "source": [
        "\n",
        "\n",
        "# Cargar la página web\n",
        "url = \"http://www.sii.cl/valores_y_fechas/uf/uf2023.htm\"\n",
        "response = requests.get(url)\n",
        "\n",
        "# Verificar si la solicitud fue exitosa\n",
        "if response.status_code == 200:\n",
        "    # Paso 4: Analizar el contenido HTML\n",
        "    soup = BeautifulSoup(response.text, 'html.parser')\n",
        "\n",
        "    # Paso 5: Imprimir una parte del contenido HTML para inspección\n",
        "    print(soup.prettify()[:1000])  # Imprimir los primeros 1000 caracteres para inspección\n",
        "else:\n",
        "    print(\"Error al cargar la página:\", response.status_code)\n"
      ]
    },
    {
      "cell_type": "markdown",
      "metadata": {
        "id": "UkwA9U0k4Dlt"
      },
      "source": [
        "# No me sirvio mucho traer el html aqui, así que procedo a hacerlo desde las herramientas de chrome\n"
      ]
    },
    {
      "cell_type": "markdown",
      "metadata": {
        "id": "KYfQWhnO4esj"
      },
      "source": [
        "Encontre que el id de la tabla es 'mes_octubre'"
      ]
    },
    {
      "cell_type": "code",
      "execution_count": 6,
      "metadata": {
        "colab": {
          "base_uri": "https://localhost:8080/"
        },
        "id": "P1h65WaSy2P2",
        "outputId": "0ce43010-14e9-43e8-b5a2-67c369e56920"
      },
      "outputs": [
        {
          "name": "stdout",
          "output_type": "stream",
          "text": [
            "['36.198,73', '36.224,68']\n",
            "['36.199,94', '36.232,83']\n",
            "['36.201,14', '36.240,99']\n",
            "['36.202,35', '36.249,14']\n",
            "['36.203,56', '36.257,30']\n",
            "['36.204,76', '36.265,46']\n",
            "['36.205,97', '36.273,62']\n",
            "['36.207,18', '36.281,78']\n",
            "['36.208,38', '36.289,95']\n",
            "['36.216,53', '36.298,11']\n",
            "['', '']\n"
          ]
        }
      ],
      "source": [
        "\n",
        "if response.status_code == 200:\n",
        "    # Analizar el contenido HTML\n",
        "    soup = BeautifulSoup(response.text, 'html.parser')\n",
        "\n",
        "    # Encontrar la tabla específica para octubre\n",
        "    table = soup.find('div', {'id': 'mes_octubre'}).find('table')\n",
        "\n",
        "    # Extraer los datos de la tabla\n",
        "    data = []\n",
        "    rows = table.find_all('tr')\n",
        "\n",
        "    for row in rows[1:]:  # Ignorar la primera fila que es el encabezado\n",
        "        cols = row.find_all('td')\n",
        "        if len(cols) >= 2:\n",
        "            day = cols[0].text.strip()\n",
        "            value = cols[1].text.strip()\n",
        "            data.append([day, value])\n",
        "\n",
        "    # Imprimir los datos extraídos\n",
        "    for row in data:\n",
        "        print(row)\n",
        "else:\n",
        "    print(\"Error al cargar la página:\", response.status_code)"
      ]
    },
    {
      "cell_type": "markdown",
      "metadata": {
        "id": "MbpIz3j54jsr"
      },
      "source": [
        "## Traje los valores pero no tienen el día"
      ]
    },
    {
      "cell_type": "markdown",
      "metadata": {
        "id": "w1GBuL-U5NiH"
      },
      "source": [
        "Las filas estan marcadas como 'tr'"
      ]
    },
    {
      "cell_type": "markdown",
      "metadata": {
        "id": "PM5-YIeY5lSi"
      },
      "source": [
        "Los valores estan marcados como 'td'\n"
      ]
    },
    {
      "cell_type": "markdown",
      "metadata": {
        "id": "gP2miJgF4zRc"
      },
      "source": [
        "Los días estan en 3 columnas con el id 'th'"
      ]
    },
    {
      "cell_type": "code",
      "execution_count": 7,
      "metadata": {
        "colab": {
          "base_uri": "https://localhost:8080/"
        },
        "id": "9WAMtgFJ10rB",
        "outputId": "54a36d85-d650-4c70-b0a6-ab03f9f17ad9"
      },
      "outputs": [
        {
          "name": "stdout",
          "output_type": "stream",
          "text": [
            "['Día', 'Valor UF']\n",
            "['1', '36.198,73']\n",
            "['2', '36.199,94']\n",
            "['3', '36.201,14']\n",
            "['4', '36.202,35']\n",
            "['5', '36.203,56']\n",
            "['6', '36.204,76']\n",
            "['7', '36.205,97']\n",
            "['8', '36.207,18']\n",
            "['9', '36.208,38']\n",
            "['10', '36.216,53']\n",
            "['11', '36.224,68']\n",
            "['12', '36.232,83']\n",
            "['13', '36.240,99']\n",
            "['14', '36.249,14']\n",
            "['15', '36.257,30']\n",
            "['16', '36.265,46']\n",
            "['17', '36.273,62']\n",
            "['18', '36.281,78']\n",
            "['19', '36.289,95']\n",
            "['20', '36.298,11']\n",
            "['21', '36.306,28']\n",
            "['22', '36.314,45']\n",
            "['23', '36.322,63']\n",
            "['24', '36.330,80']\n",
            "['25', '36.338,98']\n",
            "['26', '36.347,15']\n",
            "['27', '36.355,33']\n",
            "['28', '36.363,52']\n",
            "['29', '36.371,70']\n",
            "['30', '36.379,88']\n",
            "['31', '36.388,07']\n"
          ]
        }
      ],
      "source": [
        "\n",
        "# Verificar si la solicitud fue exitosa\n",
        "if response.status_code == 200:\n",
        "    # Analizar el contenido HTML\n",
        "    soup = BeautifulSoup(response.text, 'html.parser')\n",
        "\n",
        "    # Encontrar la tabla específica para octubre\n",
        "    table = soup.find('div', {'id': 'mes_octubre'}).find('table')\n",
        "\n",
        "    # Extraer los datos de la tabla\n",
        "    data = []\n",
        "    rows = table.find_all('tr')  # Encontrar todas las filas de la tabla\n",
        "\n",
        "    for row in rows[1:]:  # Ignorar la primera fila que es el encabezado\n",
        "        # Extraer las celdas que contienen los días\n",
        "        day_cols = row.find_all('th')  # Buscar todas las celdas <th> en la fila\n",
        "        day_values = [col.text.strip() for col in day_cols]  # Extraer y limpiar el texto de las celdas\n",
        "\n",
        "        # Extraer las celdas que contienen los valores de UF\n",
        "        cols = row.find_all('td')  # Buscar todas las celdas <td> en la fila\n",
        "        uf_values = [col.text.strip() for col in cols]  # Extraer y limpiar el texto de las celdas\n",
        "\n",
        "        # Agrupar día y valores de UF\n",
        "        for i, value in enumerate(uf_values):\n",
        "            if i < len(day_values):\n",
        "                # Si hay un día correspondiente en day_values, usarlo\n",
        "                data.append([day_values[i], value])\n",
        "            else:\n",
        "                # Si no hay un nuevo día, repetir el día anterior\n",
        "                data.append([data[-1][0], value])\n",
        "\n",
        "    # Filtrar los datos vacíos (en caso de que haya celdas vacías)\n",
        "    data = [row for row in data if row[0] and row[1]]\n",
        "\n",
        "    # Ordenar los datos por el día\n",
        "    data_sorted = sorted(data, key=lambda x: int(x[0]))\n",
        "\n",
        "    # Añadir headers a los datos\n",
        "    data_sorted.insert(0, [\"Día\", \"Valor UF\"])\n",
        "\n",
        "    # Imprimir los datos ordenados con headers\n",
        "    for row in data_sorted:\n",
        "        print(row)\n",
        "else:\n",
        "    print(\"Error al cargar la página:\", response.status_code)\n",
        "\n"
      ]
    },
    {
      "cell_type": "code",
      "execution_count": 11,
      "metadata": {
        "colab": {
          "base_uri": "https://localhost:8080/"
        },
        "id": "YDCayaie555_",
        "outputId": "4869635b-bd63-470a-e2a1-423a93504dd7"
      },
      "outputs": [
        {
          "name": "stdout",
          "output_type": "stream",
          "text": [
            "Datos guardados en 'valores_uf_octubre_2023.xlsx'\n"
          ]
        }
      ],
      "source": [
        "# Crear un DataFrame de Pandas\n",
        "df = pd.DataFrame(data_sorted[1:], columns=data_sorted[0])\n",
        "\n",
        "# Guardar los datos en un archivo de Excel\n",
        "df.to_excel('valores_uf_octubre_2023.xlsx', index=False)\n",
        "\n",
        "print(\"Datos guardados en 'valores_uf_octubre_2023.xlsx'\")\n"
      ]
    }
  ],
  "metadata": {
    "colab": {
      "provenance": []
    },
    "kernelspec": {
      "display_name": "Python 3",
      "language": "python",
      "name": "python3"
    },
    "language_info": {
      "codemirror_mode": {
        "name": "ipython",
        "version": 3
      },
      "file_extension": ".py",
      "mimetype": "text/x-python",
      "name": "python",
      "nbconvert_exporter": "python",
      "pygments_lexer": "ipython3",
      "version": "3.7.7"
    }
  },
  "nbformat": 4,
  "nbformat_minor": 0
}
